{
 "cells": [
  {
   "cell_type": "code",
   "execution_count": null,
   "metadata": {},
   "outputs": [],
   "source": [
    "import os\n",
    "import operator\n",
    "from typing import Annotated\n",
    "\n",
    "from langchain_community.chat_models import AzureChatOpenAI\n",
    "from langgraph.graph import END, START, StateGraph\n",
    "from langgraph.graph.message import add_messages\n",
    "from typing_extensions import TypedDict"
   ]
  },
  {
   "cell_type": "code",
   "execution_count": null,
   "metadata": {},
   "outputs": [],
   "source": [
    "OPENAI_API_KEY = os.environ.get(\"AZURE_OPENAI_API_KEY\")\n",
    "AZURE_OPENAI_ENDPOINT = os.environ.get(\"AZURE_OPENAI_ENDPOINT\")\n",
    "OPENAI_DEPLOYMENT_VERSION = \"2023-12-01-preview\"\n",
    "\n",
    "llm = AzureChatOpenAI(\n",
    "    deployment_name=\"gpt-4o\",\n",
    "    model_name=\"gpt-4o\",\n",
    "    azure_endpoint=AZURE_OPENAI_ENDPOINT,\n",
    "    openai_api_version=OPENAI_DEPLOYMENT_VERSION,\n",
    "    openai_api_key=OPENAI_API_KEY,\n",
    "    openai_api_type=\"azure\",\n",
    "    temperature=0.1,\n",
    ")"
   ]
  },
  {
   "cell_type": "code",
   "execution_count": 31,
   "metadata": {},
   "outputs": [],
   "source": [
    "class State(TypedDict):\n",
    "    text: str\n",
    "    answer: str\n",
    "    payload: dict[str, list]"
   ]
  },
  {
   "cell_type": "code",
   "execution_count": null,
   "metadata": {},
   "outputs": [],
   "source": [
    "from langgraph.graph import StateGraph\n",
    "\n",
    "graph_builder = StateGraph(State)\n",
    "\n",
    "\n",
    "def extract_content(state: State):\n",
    "    return {\"text\": state[\"payload\"][0][\"customer_remark\"]}\n",
    "\n",
    "\n",
    "def route_question_or_compliment(state: State):\n",
    "    if \"?\" in state[\"text\"]:\n",
    "        return \"question\"\n",
    "    else:\n",
    "        return \"compliment\"\n",
    "\n",
    "\n",
    "def run_compliment_code(state: State):\n",
    "    return {\"answer\": \"Thanks for the compliment.\"}\n",
    "\n",
    "\n",
    "def run_question_code(state: State):\n",
    "    return {\"answer\": \"Wow nice question.\"}\n",
    "\n",
    "\n",
    "def beautify(state: State):\n",
    "    return {\"answer\": [state[\"answer\"] + \"beautified\"]}\n",
    "\n",
    "\n",
    "graph_builder.add_node(\"extract_content\", extract_content)\n",
    "graph_builder.add_node(\"run_question_code\", run_question_code)\n",
    "graph_builder.add_node(\"run_compliment_code\", run_compliment_code)\n",
    "graph_builder.add_node(\"beautify\", beautify)\n",
    "\n",
    "graph_builder.add_edge(START, \"extract_content\")\n",
    "graph_builder.add_conditional_edges(\n",
    "    \"extract_content\",\n",
    "    route_question_or_compliment,\n",
    "    {\n",
    "        \"compliment\": \"run_compliment_code\",\n",
    "        \"question\": \"run_question_code\",\n",
    "    },\n",
    ")\n",
    "graph_builder.add_edge(\"run_question_code\", \"beautify\")\n",
    "graph_builder.add_edge(\"run_compliment_code\", \"beautify\")\n",
    "graph_builder.add_edge(\"beautify\", END)\n",
    "\n",
    "graph = graph_builder.compile()"
   ]
  },
  {
   "cell_type": "code",
   "execution_count": null,
   "metadata": {},
   "outputs": [
    {
     "data": {
      "image/png": "[encoded data removed]",
      "text/plain": [
       "<IPython.core.display.Image object>"
      ]
     },
     "metadata": {},
     "output_type": "display_data"
    }
   ],
   "source": [
    "from IPython.display import Image, display\n",
    "\n",
    "display(Image(graph.get_graph().draw_mermaid_png()))"
   ]
  },
  {
   "cell_type": "code",
   "execution_count": null,
   "metadata": {},
   "outputs": [
    {
     "name": "stdout",
     "output_type": "stream",
     "text": [
      "{'extract_content': {'text': 'I hate this.'}}\n",
      "{'run_compliment_code': {'answer': 'Thanks for the compliment.'}}\n",
      "{'beautify': {'answer': ['Thanks for the compliment.beautified']}}\n"
     ]
    }
   ],
   "source": [
    "user_input = \"I hate this.\"\n",
    "for step in graph.stream(\n",
    "    {\n",
    "        \"payload\": [\n",
    "            {\n",
    "                \"time_of_comment\": \"20-01-2025\",\n",
    "                \"customer_remark\": user_input,\n",
    "                \"social_media_channel\": \"facebook\",\n",
    "                \"number_of_likes\": 100,\n",
    "            }\n",
    "        ]\n",
    "    }\n",
    "):\n",
    "    print(step)"
   ]
  },
  {
   "cell_type": "code",
   "execution_count": null,
   "metadata": {},
   "outputs": [
    {
     "data": {
      "text/plain": [
       "{'text': 'I hate this.',\n",
       " 'answer': ['Thanks for the compliment.beautified'],\n",
       " 'payload': [{'time_of_comment': '20-01-2025',\n",
       "   'customer_remark': 'I hate this.',\n",
       "   'social_media_channel': 'facebook',\n",
       "   'number_of_likes': 100}]}"
      ]
     },
     "execution_count": 32,
     "metadata": {},
     "output_type": "execute_result"
    }
   ],
   "source": [
    "graph.invoke(\n",
    "    {\n",
    "        \"payload\": [\n",
    "            {\n",
    "                \"time_of_comment\": \"20-01-2025\",\n",
    "                \"customer_remark\": user_input,\n",
    "                \"social_media_channel\": \"facebook\",\n",
    "                \"number_of_likes\": 100,\n",
    "            }\n",
    "        ]\n",
    "    }\n",
    ")"
   ]
  },
  {
   "cell_type": "markdown",
   "metadata": {},
   "source": [
    "How to append content to variables that are already in the state?"
   ]
  },
  {
   "cell_type": "code",
   "execution_count": 47,
   "metadata": {},
   "outputs": [],
   "source": [
    "from langgraph.graph import StateGraph\n",
    "\n",
    "\n",
    "class State(TypedDict):\n",
    "    text: str\n",
    "    # answer: str\n",
    "    answer: Annotated[list, operator.add]\n",
    "    payload: dict[str, list]\n",
    "\n",
    "\n",
    "graph_builder = StateGraph(State)\n",
    "\n",
    "\n",
    "def extract_content(state: State):\n",
    "    return {\"text\": state[\"payload\"][0][\"customer_remark\"]}\n",
    "\n",
    "\n",
    "def route_question_or_compliment(state: State):\n",
    "    if \"?\" in state[\"text\"]:\n",
    "        return \"question\"\n",
    "    else:\n",
    "        return \"compliment\"\n",
    "\n",
    "\n",
    "def run_compliment_code(state: State):\n",
    "    return {\"answer\": [\"Thanks for the compliment.\"]}\n",
    "\n",
    "\n",
    "def run_question_code(state: State):\n",
    "    return {\"answer\": [\"Wow nice question.\"]}\n",
    "\n",
    "\n",
    "def beautify(state: State):\n",
    "    return {\"answer\": [str(state[\"answer\"][-1]) + \"beautified\"]}\n",
    "\n",
    "\n",
    "graph_builder.add_node(\"extract_content\", extract_content)\n",
    "graph_builder.add_node(\"run_question_code\", run_question_code)\n",
    "graph_builder.add_node(\"run_compliment_code\", run_compliment_code)\n",
    "graph_builder.add_node(\"beautify\", beautify)\n",
    "\n",
    "graph_builder.add_edge(START, \"extract_content\")\n",
    "graph_builder.add_conditional_edges(\n",
    "    \"extract_content\",\n",
    "    route_question_or_compliment,\n",
    "    {\n",
    "        \"compliment\": \"run_compliment_code\",\n",
    "        \"question\": \"run_question_code\",\n",
    "    },\n",
    ")\n",
    "graph_builder.add_edge(\"run_question_code\", \"beautify\")\n",
    "graph_builder.add_edge(\"run_compliment_code\", \"beautify\")\n",
    "graph_builder.add_edge(\"beautify\", END)\n",
    "\n",
    "graph2 = graph_builder.compile()"
   ]
  },
  {
   "cell_type": "code",
   "execution_count": 48,
   "metadata": {},
   "outputs": [
    {
     "data": {
      "text/plain": [
       "{'text': 'I hate this.',\n",
       " 'answer': ['Thanks for the compliment.',\n",
       "  'Thanks for the compliment.beautified'],\n",
       " 'payload': [{'time_of_comment': '20-01-2025',\n",
       "   'customer_remark': 'I hate this.',\n",
       "   'social_media_channel': 'facebook',\n",
       "   'number_of_likes': 100}]}"
      ]
     },
     "execution_count": 48,
     "metadata": {},
     "output_type": "execute_result"
    }
   ],
   "source": [
    "graph2.invoke(\n",
    "    {\n",
    "        \"payload\": [\n",
    "            {\n",
    "                \"time_of_comment\": \"20-01-2025\",\n",
    "                \"customer_remark\": user_input,\n",
    "                \"social_media_channel\": \"facebook\",\n",
    "                \"number_of_likes\": 100,\n",
    "            }\n",
    "        ]\n",
    "    }\n",
    ")"
   ]
  },
  {
   "cell_type": "markdown",
   "metadata": {},
   "source": [
    "Implement custom operators"
   ]
  },
  {
   "cell_type": "code",
   "execution_count": 54,
   "metadata": {},
   "outputs": [],
   "source": [
    "def merge_dicts(dict1, dict2):\n",
    "    return {**dict1, **dict2}"
   ]
  },
  {
   "cell_type": "code",
   "execution_count": 53,
   "metadata": {},
   "outputs": [
    {
     "data": {
      "text/plain": [
       "{'a': [1], 'b': 2}"
      ]
     },
     "execution_count": 53,
     "metadata": {},
     "output_type": "execute_result"
    }
   ],
   "source": [
    "merge_dicts({\"a\": [1]}, {\"b\": 2})"
   ]
  },
  {
   "cell_type": "code",
   "execution_count": null,
   "metadata": {},
   "outputs": [],
   "source": [
    "from langgraph.graph import StateGraph\n",
    "\n",
    "\n",
    "class State(TypedDict):\n",
    "    text: str\n",
    "    # answer: str\n",
    "    # answer: Annotated[list, operator.add]\n",
    "    answer: Annotated[dict, merge_dicts]\n",
    "    payload: dict[str, list]\n",
    "\n",
    "\n",
    "graph_builder = StateGraph(State)\n",
    "\n",
    "\n",
    "def extract_content(state: State):\n",
    "    return {\"text\": state[\"payload\"][0][\"customer_remark\"]}\n",
    "\n",
    "\n",
    "def route_question_or_compliment(state: State):\n",
    "    if \"?\" in state[\"text\"]:\n",
    "        return \"question\"\n",
    "    else:\n",
    "        return \"compliment\"\n",
    "\n",
    "\n",
    "def run_compliment_code(state: State):\n",
    "    return {\"answer\": {\"temp_answer\": \"Thanks for the compliment.\"}}\n",
    "\n",
    "\n",
    "def run_question_code(state: State):\n",
    "    return {\"answer\": {\"temp_answer\": \"Wow nice question.\"}}\n",
    "\n",
    "\n",
    "def beautify(state: State):\n",
    "    return {\n",
    "        \"answer\": {\n",
    "            \"final_beautified_answer\": [\n",
    "                str(state[\"answer\"][\"temp_answer\"]) + \"beautified\"\n",
    "            ]\n",
    "        }\n",
    "    }\n",
    "\n",
    "\n",
    "graph_builder.add_node(\"extract_content\", extract_content)\n",
    "graph_builder.add_node(\"run_question_code\", run_question_code)\n",
    "graph_builder.add_node(\"run_compliment_code\", run_compliment_code)\n",
    "graph_builder.add_node(\"beautify\", beautify)\n",
    "\n",
    "graph_builder.add_edge(START, \"extract_content\")\n",
    "graph_builder.add_conditional_edges(\n",
    "    \"extract_content\",\n",
    "    route_question_or_compliment,\n",
    "    {\n",
    "        \"compliment\": \"run_compliment_code\",\n",
    "        \"question\": \"run_question_code\",\n",
    "    },\n",
    ")\n",
    "graph_builder.add_edge(\"run_question_code\", \"beautify\")\n",
    "graph_builder.add_edge(\"run_compliment_code\", \"beautify\")\n",
    "graph_builder.add_edge(\"beautify\", END)\n",
    "\n",
    "graph3 = graph_builder.compile()"
   ]
  },
  {
   "cell_type": "code",
   "execution_count": null,
   "metadata": {},
   "outputs": [
    {
     "name": "stdout",
     "output_type": "stream",
     "text": [
      "{'text': 'I hate this.', 'answer': {'temp_answer': 'Thanks for the compliment.'}, 'payload': [{'time_of_comment': '20-01-2025', 'customer_remark': 'I hate this.', 'social_media_channel': 'facebook', 'number_of_likes': 100}]}\n"
     ]
    },
    {
     "data": {
      "text/plain": [
       "{'text': 'I hate this.',\n",
       " 'answer': {'temp_answer': 'Thanks for the compliment.',\n",
       "  'final_beautified_answer': ['Thanks for the compliment.beautified']},\n",
       " 'payload': [{'time_of_comment': '20-01-2025',\n",
       "   'customer_remark': 'I hate this.',\n",
       "   'social_media_channel': 'facebook',\n",
       "   'number_of_likes': 100}]}"
      ]
     },
     "execution_count": 64,
     "metadata": {},
     "output_type": "execute_result"
    }
   ],
   "source": [
    "graph3.invoke(\n",
    "    {\n",
    "        \"payload\": [\n",
    "            {\n",
    "                \"time_of_comment\": \"20-01-2025\",\n",
    "                \"customer_remark\": user_input,\n",
    "                \"social_media_channel\": \"facebook\",\n",
    "                \"number_of_likes\": 100,\n",
    "            }\n",
    "        ]\n",
    "    }\n",
    ")"
   ]
  },
  {
   "cell_type": "markdown",
   "metadata": {},
   "source": [
    "Parallel node execution"
   ]
  },
  {
   "cell_type": "code",
   "execution_count": null,
   "metadata": {},
   "outputs": [],
   "source": [
    "from langgraph.graph import StateGraph\n",
    "\n",
    "\n",
    "class State(TypedDict):\n",
    "    text: str\n",
    "    tag: str\n",
    "    # answer: Annotated[list, operator.add]\n",
    "    answer: Annotated[dict, merge_dicts]\n",
    "    payload: dict[str, list]\n",
    "\n",
    "\n",
    "graph_builder = StateGraph(State)\n",
    "\n",
    "\n",
    "def extract_content(state: State):\n",
    "    return {\"text\": state[\"payload\"][0][\"customer_remark\"]}\n",
    "\n",
    "\n",
    "def tag_query(state: State):\n",
    "    if \"package\" in state[\"text\"]:\n",
    "        return {\"tag\": \"Packaging\"}\n",
    "    elif \"price\" in state[\"text\"]:\n",
    "        return {\"tag\": \"Pricing\"}\n",
    "    else:\n",
    "        return {\"tag\": \"General\"}\n",
    "\n",
    "\n",
    "def route_question_or_compliment(state: State):\n",
    "    if \"?\" in state[\"text\"]:\n",
    "        return \"question\"\n",
    "    else:\n",
    "        return \"compliment\"\n",
    "\n",
    "\n",
    "def run_compliment_code(state: State):\n",
    "    return {\"answer\": {\"temp_answer\": \"Thanks for the compliment.\"}}\n",
    "\n",
    "\n",
    "def run_question_code(state: State):\n",
    "    return {\"answer\": {\"temp_answer\": \"Wow nice question.\"}}\n",
    "\n",
    "\n",
    "def beautify(state: State):\n",
    "    return {\n",
    "        \"answer\": {\n",
    "            \"final_beautified_answer\": [\n",
    "                str(state[\"answer\"][\"temp_answer\"])\n",
    "                + f'I will pass it to the {state[\"tag\"]} Department'\n",
    "            ]\n",
    "        }\n",
    "    }\n",
    "\n",
    "\n",
    "graph_builder.add_node(\"extract_content\", extract_content)\n",
    "graph_builder.add_node(\"tag_query\", tag_query)\n",
    "graph_builder.add_node(\"run_question_code\", run_question_code)\n",
    "graph_builder.add_node(\"run_compliment_code\", run_compliment_code)\n",
    "graph_builder.add_node(\"beautify\", beautify)\n",
    "\n",
    "graph_builder.add_edge(START, \"extract_content\")\n",
    "graph_builder.add_edge(\"extract_content\", \"tag_query\")\n",
    "graph_builder.add_conditional_edges(\n",
    "    \"extract_content\",\n",
    "    route_question_or_compliment,\n",
    "    {\n",
    "        \"compliment\": \"run_compliment_code\",\n",
    "        \"question\": \"run_question_code\",\n",
    "    },\n",
    ")\n",
    "graph_builder.add_edge(\"run_question_code\", \"beautify\")\n",
    "graph_builder.add_edge(\"run_compliment_code\", \"beautify\")\n",
    "graph_builder.add_edge(\"tag_query\", \"beautify\")\n",
    "graph_builder.add_edge(\"beautify\", END)\n",
    "\n",
    "graph4 = graph_builder.compile()"
   ]
  },
  {
   "cell_type": "markdown",
   "metadata": {},
   "source": []
  },
  {
   "cell_type": "code",
   "execution_count": 68,
   "metadata": {},
   "outputs": [
    {
     "data": {
      "image/png": "[encoded data removed]",
      "text/plain": [
       "<IPython.core.display.Image object>"
      ]
     },
     "metadata": {},
     "output_type": "display_data"
    }
   ],
   "source": [
    "from IPython.display import Image, display\n",
    "\n",
    "display(Image(graph4.get_graph().draw_mermaid_png()))"
   ]
  },
  {
   "cell_type": "code",
   "execution_count": 82,
   "metadata": {},
   "outputs": [
    {
     "data": {
      "text/plain": [
       "{'text': 'I hate this.',\n",
       " 'tag': 'General',\n",
       " 'answer': {'temp_answer': 'Thanks for the compliment.',\n",
       "  'final_beautified_answer': ['Thanks for the compliment.beautified.I will pass it to the General Department']},\n",
       " 'payload': [{'time_of_comment': '20-01-2025',\n",
       "   'customer_remark': 'I hate this.',\n",
       "   'social_media_channel': 'facebook',\n",
       "   'number_of_likes': 100}]}"
      ]
     },
     "execution_count": 82,
     "metadata": {},
     "output_type": "execute_result"
    }
   ],
   "source": [
    "graph4.invoke(\n",
    "    {\n",
    "        \"payload\": [\n",
    "            {\n",
    "                \"time_of_comment\": \"20-01-2025\",\n",
    "                \"customer_remark\": user_input,\n",
    "                \"social_media_channel\": \"facebook\",\n",
    "                \"number_of_likes\": 100,\n",
    "            }\n",
    "        ]\n",
    "    }\n",
    ")"
   ]
  }
 ],
 "metadata": {
  "kernelspec": {
   "display_name": "askhaleon_env",
   "language": "python",
   "name": "python3"
  },
  "language_info": {
   "codemirror_mode": {
    "name": "ipython",
    "version": 3
   },
   "file_extension": ".py",
   "mimetype": "text/x-python",
   "name": "python",
   "nbconvert_exporter": "python",
   "pygments_lexer": "ipython3",
   "version": "3.9.6"
  }
 },
 "nbformat": 4,
 "nbformat_minor": 2
}
